{
 "cells": [
  {
   "cell_type": "code",
   "execution_count": 1,
   "id": "9c57a11e",
   "metadata": {},
   "outputs": [],
   "source": [
    "import pandas as pd\n",
    "import numpy as np\n",
    "import string\n",
    "\n",
    "import gensim\n",
    "from gensim.parsing.preprocessing import STOPWORDS\n",
    "from gensim import corpora, models\n",
    "# from gensim.matutils import softcossim\n",
    "from gensim.models import CoherenceModel\n",
    "from gensim.utils import simple_preprocess\n",
    "\n",
    "import nltk\n",
    "from nltk import FreqDist\n",
    "from nltk.stem import WordNetLemmatizer, SnowballStemmer\n",
    "from nltk.tokenize import sent_tokenize, word_tokenize\n",
    "\n",
    "import pickle\n",
    "import math\n",
    "import spacy\n",
    "\n",
    "import torch\n",
    "import torch.nn as nn\n",
    "import torch.nn.functional as F\n",
    "import torch.optim as optim\n",
    "import torch.autograd as autograd\n",
    "import torchtext.vocab as torchvocab\n",
    "from torch.autograd import Variable\n",
    "from torch.utils.data import Dataset\n",
    "from torch.utils.data import DataLoader\n",
    "\n",
    "from sklearn.model_selection import train_test_split\n",
    "from sklearn import metrics\n",
    "import matplotlib.pyplot as plt"
   ]
  },
  {
   "cell_type": "code",
   "execution_count": 2,
   "id": "3e399470",
   "metadata": {},
   "outputs": [
    {
     "name": "stdout",
     "output_type": "stream",
     "text": [
      "(31999, 10)\n",
      "(31999,)\n"
     ]
    }
   ],
   "source": [
    "data = pd.read_csv('hotel.csv') \n",
    "print(data.shape)\n",
    "reviews = data['reviews']\n",
    "print(reviews.shape)"
   ]
  },
  {
   "cell_type": "code",
   "execution_count": null,
   "id": "829ddec6",
   "metadata": {},
   "outputs": [],
   "source": []
  },
  {
   "cell_type": "code",
   "execution_count": 3,
   "id": "6c5be546",
   "metadata": {},
   "outputs": [
    {
     "name": "stdout",
     "output_type": "stream",
     "text": [
      "(6296, 10)\n",
      "(6296,)\n",
      "  aspects1  aspects1_rating  aspects2  aspects2_rating aspects3  \\\n",
      "0    Value                2  Location                3    Rooms   \n",
      "1    Value                5  Location                5    Rooms   \n",
      "2    Value                5  Location                5    Rooms   \n",
      "3    Value                3  Location                4    Rooms   \n",
      "4    Value                3  Location                5    Rooms   \n",
      "\n",
      "   aspects3_rating     aspects4  aspects4_rating  rating  \\\n",
      "0                2  Cleanliness                2       2   \n",
      "1                5  Cleanliness                5       4   \n",
      "2                5  Cleanliness                5       5   \n",
      "3                4  Cleanliness                4       3   \n",
      "4                4  Cleanliness                4       4   \n",
      "\n",
      "                                             reviews  \n",
      "0  I stayed at this hotel for two long and not so...  \n",
      "1  We've stayed here many times before and the Fr...  \n",
      "2  The Book Cadillac is a great modern hotel in a...  \n",
      "3  I have stayed several times at Greektown hotel...  \n",
      "4  The room is fine and clean; a bit small but th...  \n"
     ]
    }
   ],
   "source": [
    "validationdata = pd.read_csv('validation.csv') \n",
    "print(validationdata.shape)\n",
    "validationreviews = validationdata['reviews']\n",
    "print(validationreviews.shape)\n",
    "print(validationdata.head())\n"
   ]
  },
  {
   "cell_type": "code",
   "execution_count": 4,
   "id": "5f49fa79",
   "metadata": {},
   "outputs": [
    {
     "name": "stdout",
     "output_type": "stream",
     "text": [
      "(19444, 10)\n",
      "(19444,)\n"
     ]
    }
   ],
   "source": [
    "traindata = pd.read_csv('train.csv') \n",
    "print(traindata.shape)\n",
    "trainreviews = traindata['reviews']\n",
    "print(trainreviews.shape)"
   ]
  },
  {
   "cell_type": "code",
   "execution_count": 5,
   "id": "64a3b297",
   "metadata": {},
   "outputs": [
    {
     "name": "stdout",
     "output_type": "stream",
     "text": [
      "(6257, 10)\n",
      "(6257,)\n"
     ]
    }
   ],
   "source": [
    "testdata = pd.read_csv('test.csv') \n",
    "print(testdata.shape)\n",
    "testreviews = testdata['reviews']\n",
    "print(testreviews.shape)"
   ]
  },
  {
   "cell_type": "code",
   "execution_count": 6,
   "id": "51bf6852",
   "metadata": {},
   "outputs": [],
   "source": [
    "def lemmatize_stemming(text):\n",
    "    stemmer = SnowballStemmer(\"english\")\n",
    "    return stemmer.stem(WordNetLemmatizer().lemmatize(text, pos='v'))"
   ]
  },
  {
   "cell_type": "code",
   "execution_count": 7,
   "id": "b192a252",
   "metadata": {},
   "outputs": [],
   "source": [
    "def preprocess(text):\n",
    "    result = []\n",
    "    for token in gensim.utils.simple_preprocess(text):\n",
    "        if token not in gensim.parsing.preprocessing.STOPWORDS and len(token) > 3:\n",
    "            result.append(lemmatize_stemming(token))\n",
    "    return result\n"
   ]
  },
  {
   "cell_type": "code",
   "execution_count": 8,
   "id": "0113567b",
   "metadata": {},
   "outputs": [],
   "source": [
    "def pad_and_truncate(sequence, maxlen, dtype='int64', padding='post', truncating='post', value=0):\n",
    "    x = (np.ones(maxlen) * value).astype(dtype)\n",
    "    if truncating == 'pre':\n",
    "        trunc = sequence[-maxlen:]\n",
    "    else:\n",
    "        trunc = sequence[:maxlen]\n",
    "    trunc = np.asarray(trunc, dtype=dtype)\n",
    "    if padding == 'post':\n",
    "        x[:len(trunc)] = trunc\n",
    "    else:\n",
    "        x[-len(trunc):] = trunc\n",
    "    return x\n"
   ]
  },
  {
   "cell_type": "code",
   "execution_count": 9,
   "id": "1005606b",
   "metadata": {},
   "outputs": [],
   "source": [
    "class Tokenizer(object):\n",
    "    def __init__(self, max_seq_len):\n",
    "        self.max_seq_len = max_seq_len\n",
    "        self.word2idx = {}\n",
    "        self.idx2word = {}\n",
    "        self.idx = 1\n",
    "\n",
    "    def fit_on_text(self, text):\n",
    "        words = preprocess(text)\n",
    "        for word in words:\n",
    "            if word not in self.word2idx:\n",
    "                self.word2idx[word] = self.idx\n",
    "                self.idx2word[self.idx] = word\n",
    "                self.idx += 1\n",
    "\n",
    "    def text_to_sequence(self, text, reverse=False, padding='post', truncating='post'):\n",
    "        words = preprocess(text)\n",
    "        unknownidx = len(self.word2idx)+1\n",
    "        sequence = [self.word2idx[w] if w in self.word2idx else unknownidx for w in words]\n",
    "        if len(sequence) == 0:\n",
    "            sequence = [0]\n",
    "        if reverse:\n",
    "            sequence = sequence[::-1]\n",
    "        return pad_and_truncate(sequence, self.max_seq_len, padding=padding, truncating=truncating)\n"
   ]
  },
  {
   "cell_type": "code",
   "execution_count": 10,
   "id": "5274e663",
   "metadata": {},
   "outputs": [],
   "source": [
    "max_seq_len = 200\n",
    "embed_dim = 300\n",
    "hidden_dim = 300\n",
    "polarities_dim = 2\n",
    "glove_fname = 'glove.42B.300d.txt' \n"
   ]
  },
  {
   "cell_type": "code",
   "execution_count": 11,
   "id": "ac280174",
   "metadata": {},
   "outputs": [],
   "source": [
    "def build_tokenizer(dataset, max_seq_len):\n",
    "    tokenizer = Tokenizer(max_seq_len)\n",
    "    for data in dataset:\n",
    "        tokenizer.fit_on_text(data)\n",
    "    return tokenizer"
   ]
  },
  {
   "cell_type": "code",
   "execution_count": 12,
   "id": "a25640a5",
   "metadata": {},
   "outputs": [],
   "source": [
    "tokenizer = build_tokenizer(dataset = reviews, max_seq_len = max_seq_len)\n",
    "train_tokenizer = build_tokenizer(dataset = trainreviews, max_seq_len = max_seq_len)\n",
    "validation_tokenizer = build_tokenizer(dataset = validationreviews, max_seq_len = max_seq_len)\n",
    "test_tokenizer = build_tokenizer(dataset = testreviews, max_seq_len = max_seq_len)\n"
   ]
  },
  {
   "cell_type": "code",
   "execution_count": 13,
   "id": "095ede43",
   "metadata": {},
   "outputs": [],
   "source": [
    "word2idx = tokenizer.word2idx\n",
    "train_word2idx = train_tokenizer.word2idx\n",
    "validation_word2idx = validation_tokenizer.word2idx\n",
    "test_word2idx = test_tokenizer.word2idx\n"
   ]
  },
  {
   "cell_type": "code",
   "execution_count": 14,
   "id": "73437770",
   "metadata": {},
   "outputs": [],
   "source": [
    "def load_word_vec(path, word2idx=None):\n",
    "    fin = open(path, 'r', encoding='utf-8', newline='\\n', errors='ignore')\n",
    "    word_vec = {}\n",
    "    for line in fin:\n",
    "        tokens = line.rstrip().split()\n",
    "        if word2idx is None or tokens[0] in word2idx.keys():\n",
    "            word_vec[tokens[0]] = np.asarray(tokens[1:], dtype='float32')\n",
    "    return word_vec\n"
   ]
  },
  {
   "cell_type": "code",
   "execution_count": 15,
   "id": "79b6f28c",
   "metadata": {},
   "outputs": [],
   "source": [
    "word_vec = load_word_vec(glove_fname, word2idx)"
   ]
  },
  {
   "cell_type": "code",
   "execution_count": 16,
   "id": "154a4dae",
   "metadata": {},
   "outputs": [],
   "source": [
    "def build_embedding_matrix(word2idx, word_vec, embed_dim):\n",
    "    embedding_matrix = np.zeros((len(word2idx)+2, embed_dim))\n",
    "    for word, i in word2idx.items():\n",
    "        vec = word_vec.get(word)\n",
    "        if vec is not None:\n",
    "            # words not found in embedding index will be all-zeros.\n",
    "            embedding_matrix[i] = vec\n",
    "    return embedding_matrix"
   ]
  },
  {
   "cell_type": "code",
   "execution_count": 17,
   "id": "bda28585",
   "metadata": {},
   "outputs": [],
   "source": [
    "embedding_matrix = build_embedding_matrix(word2idx, word_vec, embed_dim)\n"
   ]
  },
  {
   "cell_type": "code",
   "execution_count": 18,
   "id": "8fb0f864",
   "metadata": {},
   "outputs": [],
   "source": [
    "def polarity(data):\n",
    "    if(data>3):\n",
    "        newdata=1\n",
    "    else:\n",
    "        newdata=0\n",
    "    return newdata"
   ]
  },
  {
   "cell_type": "code",
   "execution_count": 19,
   "id": "acdb4f8f",
   "metadata": {},
   "outputs": [],
   "source": [
    "class CreateDataset(Dataset):\n",
    "    def __init__(self, dataset, sentence_tokenizer):\n",
    "        \n",
    "        all_data = []\n",
    "        reviews = dataset['reviews']\n",
    "        value_ratings = dataset['aspects1_rating']\n",
    "        atmosphere_ratings = dataset['aspects2_rating']\n",
    "        service_ratings = dataset['aspects3_rating']\n",
    "        food_ratings = dataset['aspects4_rating']\n",
    "        ratings = dataset['rating']\n",
    "        \n",
    "        for i in range(len(reviews)):\n",
    "            \n",
    "            review = reviews[i]\n",
    "            review_token = preprocess(review)\n",
    "            review_indices = sentence_tokenizer.text_to_sequence(review)\n",
    "            \n",
    "            value_rating = polarity(value_ratings[i])\n",
    "            atmosphere_rating = polarity(atmosphere_ratings[i])\n",
    "            service_rating = polarity(service_ratings[i])\n",
    "            food_rating = polarity(food_ratings[i])\n",
    "            \n",
    "            rating = polarity(ratings[i])\n",
    "            \n",
    "            newdata = {\n",
    "                #'review': review,\n",
    "                #'review_token': review_token,\n",
    "                'review_indices': review_indices, \n",
    "                'value_rating': value_rating,\n",
    "                'atmosphere_rating': atmosphere_rating,\n",
    "                'service_rating': service_rating,\n",
    "                'food_rating': food_rating,\n",
    "                'rating': rating,\n",
    "                }\n",
    "\n",
    "            all_data.append(newdata)\n",
    "\n",
    "        self.data = all_data\n",
    "\n",
    "    def __getitem__(self, index):\n",
    "        return self.data[index]\n",
    "\n",
    "    def __len__(self):\n",
    "        return len(self.data)\n",
    "\n"
   ]
  },
  {
   "cell_type": "code",
   "execution_count": 20,
   "id": "f81c4fde",
   "metadata": {},
   "outputs": [],
   "source": [
    "trainset = CreateDataset(traindata,train_tokenizer)\n",
    "validationset = CreateDataset(validationdata,validation_tokenizer)\n",
    "testset = CreateDataset(testdata,test_tokenizer)\n"
   ]
  },
  {
   "cell_type": "code",
   "execution_count": 21,
   "id": "60b55256",
   "metadata": {},
   "outputs": [
    {
     "name": "stdout",
     "output_type": "stream",
     "text": [
      "19444\n",
      "6296\n",
      "6257\n"
     ]
    }
   ],
   "source": [
    "print(len(trainset))\n",
    "print(len(validationset))\n",
    "print(len(testset))"
   ]
  },
  {
   "cell_type": "code",
   "execution_count": 22,
   "id": "b909ee1d",
   "metadata": {},
   "outputs": [
    {
     "data": {
      "text/plain": [
       "{'review_indices': array([82,  7, 83, 46, 84, 10, 85, 86, 87, 88, 89, 90, 91, 61,  7, 92,  0,\n",
       "         0,  0,  0,  0,  0,  0,  0,  0,  0,  0,  0,  0,  0,  0,  0,  0,  0,\n",
       "         0,  0,  0,  0,  0,  0,  0,  0,  0,  0,  0,  0,  0,  0,  0,  0,  0,\n",
       "         0,  0,  0,  0,  0,  0,  0,  0,  0,  0,  0,  0,  0,  0,  0,  0,  0,\n",
       "         0,  0,  0,  0,  0,  0,  0,  0,  0,  0,  0,  0,  0,  0,  0,  0,  0,\n",
       "         0,  0,  0,  0,  0,  0,  0,  0,  0,  0,  0,  0,  0,  0,  0,  0,  0,\n",
       "         0,  0,  0,  0,  0,  0,  0,  0,  0,  0,  0,  0,  0,  0,  0,  0,  0,\n",
       "         0,  0,  0,  0,  0,  0,  0,  0,  0,  0,  0,  0,  0,  0,  0,  0,  0,\n",
       "         0,  0,  0,  0,  0,  0,  0,  0,  0,  0,  0,  0,  0,  0,  0,  0,  0,\n",
       "         0,  0,  0,  0,  0,  0,  0,  0,  0,  0,  0,  0,  0,  0,  0,  0,  0,\n",
       "         0,  0,  0,  0,  0,  0,  0,  0,  0,  0,  0,  0,  0,  0,  0,  0,  0,\n",
       "         0,  0,  0,  0,  0,  0,  0,  0,  0,  0,  0,  0,  0], dtype=int64),\n",
       " 'value_rating': 1,\n",
       " 'atmosphere_rating': 1,\n",
       " 'service_rating': 0,\n",
       " 'food_rating': 1,\n",
       " 'rating': 1}"
      ]
     },
     "execution_count": 22,
     "metadata": {},
     "output_type": "execute_result"
    }
   ],
   "source": [
    "testset[5]"
   ]
  },
  {
   "cell_type": "code",
   "execution_count": 23,
   "id": "a7070f73",
   "metadata": {},
   "outputs": [],
   "source": [
    "batch_size = 64"
   ]
  },
  {
   "cell_type": "code",
   "execution_count": 24,
   "id": "d962f67b",
   "metadata": {},
   "outputs": [],
   "source": [
    "train_data_loader = DataLoader(dataset=trainset, batch_size=batch_size, shuffle=True)\n",
    "validation_data_loader = DataLoader(dataset=validationset, batch_size=batch_size, shuffle=True)\n",
    "test_data_loader = DataLoader(dataset=testset, batch_size=batch_size, shuffle=True)\n"
   ]
  },
  {
   "cell_type": "code",
   "execution_count": 25,
   "id": "1a21e873",
   "metadata": {},
   "outputs": [],
   "source": [
    "class DynamicLSTM(nn.Module):\n",
    "    def __init__(self, input_size, hidden_size, num_layers=1, bias=True, batch_first=True, dropout=0,\n",
    "                 bidirectional=False, only_use_last_hidden_state=False):\n",
    "        \"\"\"\n",
    "        LSTM which can hold variable length sequence, use like TensorFlow's RNN(input, length...).\n",
    "\n",
    "        :param input_size:The number of expected features in the input x\n",
    "        :param hidden_size:The number of features in the hidden state h\n",
    "        :param num_layers:Number of recurrent layers.\n",
    "        :param bias:If False, then the layer does not use bias weights b_ih and b_hh. Default: True\n",
    "        :param batch_first:If True, then the input and output tensors are provided as (batch, seq, feature)\n",
    "        :param dropout:If non-zero, introduces a dropout layer on the outputs of each RNN layer except the last layer\n",
    "        :param bidirectional:If True, becomes a bidirectional RNN. Default: False\n",
    "        \"\"\"\n",
    "        super(DynamicLSTM, self).__init__()\n",
    "        self.input_size = input_size\n",
    "        self.hidden_size = hidden_size\n",
    "        self.num_layers = num_layers\n",
    "        self.bias = bias\n",
    "        self.batch_first = batch_first\n",
    "        self.dropout = dropout\n",
    "        self.bidirectional = bidirectional\n",
    "        self.only_use_last_hidden_state = only_use_last_hidden_state\n",
    "        \n",
    "        self.lstm = nn.LSTM(\n",
    "         input_size=input_size, hidden_size=hidden_size, num_layers=num_layers,\n",
    "         bias=bias, batch_first=batch_first, dropout=dropout, bidirectional=bidirectional)  \n",
    "\n",
    "\n",
    "    def forward(self, x, x_len):\n",
    "        x_sort_idx = torch.sort(-x_len)[1].long()\n",
    "        x_unsort_idx = torch.sort(x_sort_idx)[1].long()\n",
    "        x_len = x_len[x_sort_idx]\n",
    "        x = x[x_sort_idx]\n",
    "        \n",
    "        \"\"\"pack\"\"\"\n",
    "        x_emb_p = torch.nn.utils.rnn.pack_padded_sequence(x, x_len, batch_first=self.batch_first)\n",
    "        \n",
    "        # process using the selected RNN\n",
    "        out_pack, (ht, ct) = self.lstm(x_emb_p, None)\n",
    "   \n",
    "        \"\"\"unsort: h\"\"\"\n",
    "        ht = torch.transpose(ht, 0, 1)[x_unsort_idx]  \n",
    "        # (num_layers * num_directions, batch, hidden_size) -> (batch, ...)\n",
    "        ht = torch.transpose(ht, 0, 1)\n",
    "\n",
    "        if self.only_use_last_hidden_state:\n",
    "            return ht\n",
    "        else:\n",
    "            \"\"\"unpack: out\"\"\"\n",
    "            # (sequence, lengths)\n",
    "            out = torch.nn.utils.rnn.pad_packed_sequence(out_pack, batch_first=self.batch_first)           \n",
    "            out = out[0]  \n",
    "            out = out[x_unsort_idx]\n",
    "            \n",
    "            \"\"\"unsort: out c\"\"\"\n",
    "            # (num_layers * num_directions, batch, hidden_size) -> (batch, ...)\n",
    "            ct = torch.transpose(ct, 0, 1)[x_unsort_idx]  \n",
    "            ct = torch.transpose(ct, 0, 1)\n",
    "\n",
    "            return out, (ht, ct)\n",
    "\n"
   ]
  },
  {
   "cell_type": "code",
   "execution_count": 26,
   "id": "e6ed4d41",
   "metadata": {},
   "outputs": [],
   "source": [
    "class BiLSTM(nn.Module):\n",
    "    def __init__(self,embedding_matrix, embed_dim, hidden_dim ,polarities_dim, device):\n",
    "        \n",
    "        super(BiLSTM, self).__init__()\n",
    "        \n",
    "        self.embed = nn.Embedding.from_pretrained(torch.tensor(embedding_matrix, dtype=torch.float))\n",
    "        self.lstm1 = DynamicLSTM(embed_dim, hidden_dim, num_layers=1, batch_first=True, bidirectional=True, dropout=0.5)\n",
    "        self.lstm2 = DynamicLSTM(embed_dim, hidden_dim, num_layers=1, batch_first=True, bidirectional=True, dropout=0.5)\n",
    "        self.lstm3 = DynamicLSTM(embed_dim, hidden_dim, num_layers=1, batch_first=True, bidirectional=True, dropout=0.5)\n",
    "        self.lstm4 = DynamicLSTM(embed_dim, hidden_dim, num_layers=1, batch_first=True, bidirectional=True, dropout=0.5)\n",
    "        # self.lstm = DynamicLSTM(embed_dim, hidden_dim, num_layers=1, batch_first=True, bidirectional=True, dropout=0.5)\n",
    "        \n",
    "        self.dense1 = nn.Linear(hidden_dim, polarities_dim)\n",
    "        self.dense2 = nn.Linear(hidden_dim, polarities_dim)\n",
    "        self.dense3 = nn.Linear(hidden_dim, polarities_dim)\n",
    "        self.dense4 = nn.Linear(hidden_dim, polarities_dim)\n",
    "        self.dense = nn.Linear(hidden_dim*4, polarities_dim)\n",
    "   \n",
    "    def forward(self,review_indices):\n",
    "        \n",
    "        text_raw_indices = review_indices\n",
    "        x = self.embed(text_raw_indices)\n",
    "        x_len = torch.sum(text_raw_indices != 0, dim=-1)\n",
    "        \n",
    "        _, (h_n1, _) = self.lstm1(x, x_len)\n",
    "        _, (h_n2, _) = self.lstm2(x, x_len)\n",
    "        _, (h_n3, _) = self.lstm3(x, x_len)\n",
    "        _, (h_n4, _) = self.lstm4(x, x_len)\n",
    "        #  _, (h_n, _) = self.lstm(x, x_len)\n",
    "        \n",
    "        out1 = self.dense1(h_n1[0])\n",
    "        out2 = self.dense2(h_n2[0])\n",
    "        out3 = self.dense3(h_n3[0])\n",
    "        out4 = self.dense4(h_n4[0])\n",
    "        h_n = torch.cat((h_n1[0],h_n2[0],h_n3[0],h_n4[0]),1) \n",
    "        out = self.dense(h_n)\n",
    "    \n",
    "        return out1,out2,out3,out4,out"
   ]
  },
  {
   "cell_type": "code",
   "execution_count": 27,
   "id": "efc44ede",
   "metadata": {},
   "outputs": [],
   "source": [
    "device = torch.device('cuda' if torch.cuda.is_available() else 'cpu')"
   ]
  },
  {
   "cell_type": "code",
   "execution_count": 28,
   "id": "108f4e6a",
   "metadata": {},
   "outputs": [
    {
     "name": "stderr",
     "output_type": "stream",
     "text": [
      "C:\\Users\\Mansi\\anaconda3\\lib\\site-packages\\torch\\nn\\modules\\rnn.py:67: UserWarning: dropout option adds dropout after all but last recurrent layer, so non-zero dropout expects num_layers greater than 1, but got dropout=0.5 and num_layers=1\n",
      "  warnings.warn(\"dropout option adds dropout after all but last \"\n"
     ]
    },
    {
     "data": {
      "text/plain": [
       "BiLSTM(\n",
       "  (embed): Embedding(17560, 300)\n",
       "  (lstm1): DynamicLSTM(\n",
       "    (lstm): LSTM(300, 300, batch_first=True, dropout=0.5, bidirectional=True)\n",
       "  )\n",
       "  (lstm2): DynamicLSTM(\n",
       "    (lstm): LSTM(300, 300, batch_first=True, dropout=0.5, bidirectional=True)\n",
       "  )\n",
       "  (lstm3): DynamicLSTM(\n",
       "    (lstm): LSTM(300, 300, batch_first=True, dropout=0.5, bidirectional=True)\n",
       "  )\n",
       "  (lstm4): DynamicLSTM(\n",
       "    (lstm): LSTM(300, 300, batch_first=True, dropout=0.5, bidirectional=True)\n",
       "  )\n",
       "  (dense1): Linear(in_features=300, out_features=2, bias=True)\n",
       "  (dense2): Linear(in_features=300, out_features=2, bias=True)\n",
       "  (dense3): Linear(in_features=300, out_features=2, bias=True)\n",
       "  (dense4): Linear(in_features=300, out_features=2, bias=True)\n",
       "  (dense): Linear(in_features=1200, out_features=2, bias=True)\n",
       ")"
      ]
     },
     "execution_count": 28,
     "metadata": {},
     "output_type": "execute_result"
    }
   ],
   "source": [
    "mymodel = BiLSTM(embedding_matrix, embed_dim, hidden_dim, polarities_dim, device)\n",
    "mymodel = mymodel.to(device)\n",
    "mymodel"
   ]
  },
  {
   "cell_type": "code",
   "execution_count": 29,
   "id": "d32bc13c",
   "metadata": {},
   "outputs": [],
   "source": [
    "def reset_params(mymodel):\n",
    "    for child in mymodel.children():\n",
    "        for p in child.parameters():\n",
    "            if p.requires_grad:\n",
    "                stdv = 1. / math.sqrt(p.shape[0])\n",
    "                torch.nn.init.uniform_(p, a=-stdv, b=stdv)\n",
    "    print('Finished')"
   ]
  },
  {
   "cell_type": "code",
   "execution_count": 30,
   "id": "42ddf04b",
   "metadata": {},
   "outputs": [],
   "source": [
    "# function to show parameters\n",
    "def paramsshow(net):\n",
    "    print(net)\n",
    "    params = list(net.parameters())\n",
    "    print(\"lenghth of parameters:\",len(params))\n",
    "    for name,parameters in net.named_parameters():\n",
    "        print(name,':',parameters.size()) "
   ]
  },
  {
   "cell_type": "code",
   "execution_count": 31,
   "id": "e3a1ccf3",
   "metadata": {},
   "outputs": [
    {
     "name": "stdout",
     "output_type": "stream",
     "text": [
      "BiLSTM(\n",
      "  (embed): Embedding(17560, 300)\n",
      "  (lstm1): DynamicLSTM(\n",
      "    (lstm): LSTM(300, 300, batch_first=True, dropout=0.5, bidirectional=True)\n",
      "  )\n",
      "  (lstm2): DynamicLSTM(\n",
      "    (lstm): LSTM(300, 300, batch_first=True, dropout=0.5, bidirectional=True)\n",
      "  )\n",
      "  (lstm3): DynamicLSTM(\n",
      "    (lstm): LSTM(300, 300, batch_first=True, dropout=0.5, bidirectional=True)\n",
      "  )\n",
      "  (lstm4): DynamicLSTM(\n",
      "    (lstm): LSTM(300, 300, batch_first=True, dropout=0.5, bidirectional=True)\n",
      "  )\n",
      "  (dense1): Linear(in_features=300, out_features=2, bias=True)\n",
      "  (dense2): Linear(in_features=300, out_features=2, bias=True)\n",
      "  (dense3): Linear(in_features=300, out_features=2, bias=True)\n",
      "  (dense4): Linear(in_features=300, out_features=2, bias=True)\n",
      "  (dense): Linear(in_features=1200, out_features=2, bias=True)\n",
      ")\n",
      "lenghth of parameters: 43\n",
      "embed.weight : torch.Size([17560, 300])\n",
      "lstm1.lstm.weight_ih_l0 : torch.Size([1200, 300])\n",
      "lstm1.lstm.weight_hh_l0 : torch.Size([1200, 300])\n",
      "lstm1.lstm.bias_ih_l0 : torch.Size([1200])\n",
      "lstm1.lstm.bias_hh_l0 : torch.Size([1200])\n",
      "lstm1.lstm.weight_ih_l0_reverse : torch.Size([1200, 300])\n",
      "lstm1.lstm.weight_hh_l0_reverse : torch.Size([1200, 300])\n",
      "lstm1.lstm.bias_ih_l0_reverse : torch.Size([1200])\n",
      "lstm1.lstm.bias_hh_l0_reverse : torch.Size([1200])\n",
      "lstm2.lstm.weight_ih_l0 : torch.Size([1200, 300])\n",
      "lstm2.lstm.weight_hh_l0 : torch.Size([1200, 300])\n",
      "lstm2.lstm.bias_ih_l0 : torch.Size([1200])\n",
      "lstm2.lstm.bias_hh_l0 : torch.Size([1200])\n",
      "lstm2.lstm.weight_ih_l0_reverse : torch.Size([1200, 300])\n",
      "lstm2.lstm.weight_hh_l0_reverse : torch.Size([1200, 300])\n",
      "lstm2.lstm.bias_ih_l0_reverse : torch.Size([1200])\n",
      "lstm2.lstm.bias_hh_l0_reverse : torch.Size([1200])\n",
      "lstm3.lstm.weight_ih_l0 : torch.Size([1200, 300])\n",
      "lstm3.lstm.weight_hh_l0 : torch.Size([1200, 300])\n",
      "lstm3.lstm.bias_ih_l0 : torch.Size([1200])\n",
      "lstm3.lstm.bias_hh_l0 : torch.Size([1200])\n",
      "lstm3.lstm.weight_ih_l0_reverse : torch.Size([1200, 300])\n",
      "lstm3.lstm.weight_hh_l0_reverse : torch.Size([1200, 300])\n",
      "lstm3.lstm.bias_ih_l0_reverse : torch.Size([1200])\n",
      "lstm3.lstm.bias_hh_l0_reverse : torch.Size([1200])\n",
      "lstm4.lstm.weight_ih_l0 : torch.Size([1200, 300])\n",
      "lstm4.lstm.weight_hh_l0 : torch.Size([1200, 300])\n",
      "lstm4.lstm.bias_ih_l0 : torch.Size([1200])\n",
      "lstm4.lstm.bias_hh_l0 : torch.Size([1200])\n",
      "lstm4.lstm.weight_ih_l0_reverse : torch.Size([1200, 300])\n",
      "lstm4.lstm.weight_hh_l0_reverse : torch.Size([1200, 300])\n",
      "lstm4.lstm.bias_ih_l0_reverse : torch.Size([1200])\n",
      "lstm4.lstm.bias_hh_l0_reverse : torch.Size([1200])\n",
      "dense1.weight : torch.Size([2, 300])\n",
      "dense1.bias : torch.Size([2])\n",
      "dense2.weight : torch.Size([2, 300])\n",
      "dense2.bias : torch.Size([2])\n",
      "dense3.weight : torch.Size([2, 300])\n",
      "dense3.bias : torch.Size([2])\n",
      "dense4.weight : torch.Size([2, 300])\n",
      "dense4.bias : torch.Size([2])\n",
      "dense.weight : torch.Size([2, 1200])\n",
      "dense.bias : torch.Size([2])\n"
     ]
    }
   ],
   "source": [
    "paramsshow(mymodel)"
   ]
  },
  {
   "cell_type": "code",
   "execution_count": 32,
   "id": "f56522d2",
   "metadata": {},
   "outputs": [],
   "source": [
    "criterion = nn.CrossEntropyLoss()\n",
    "logdir = 'log'\n",
    "learning_rate = 0.005\n",
    "l2reg = 0.01\n",
    "log_step = 10"
   ]
  },
  {
   "cell_type": "code",
   "execution_count": 33,
   "id": "0ffe3ddc",
   "metadata": {},
   "outputs": [],
   "source": [
    "params = filter(lambda p: p.requires_grad, mymodel.parameters())"
   ]
  },
  {
   "cell_type": "code",
   "execution_count": 34,
   "id": "7a2a49d0",
   "metadata": {},
   "outputs": [],
   "source": [
    "optimizer = torch.optim.Adam(params, lr= learning_rate, weight_decay=l2reg)\n"
   ]
  },
  {
   "cell_type": "code",
   "execution_count": 35,
   "id": "9aee987e",
   "metadata": {},
   "outputs": [],
   "source": [
    "num_epoch = 2"
   ]
  },
  {
   "cell_type": "code",
   "execution_count": 36,
   "id": "8aebbfb8",
   "metadata": {},
   "outputs": [
    {
     "name": "stdout",
     "output_type": "stream",
     "text": [
      "Finished\n"
     ]
    }
   ],
   "source": [
    "reset_params(mymodel)"
   ]
  },
  {
   "cell_type": "code",
   "execution_count": 37,
   "id": "0ea30657",
   "metadata": {},
   "outputs": [],
   "source": [
    "def train(model, train_data_loader, criterion, optimizer, log_step, num_epoch, device):\n",
    "    \n",
    "    print('#########Start Training#########')\n",
    "    accuracy_point = []\n",
    "    global_step = 0\n",
    "    \n",
    "    # loop over the dataset multiple times\n",
    "    for epoch in range(num_epoch):\n",
    "        \n",
    "        running_loss = 0.0\n",
    "        correct = 0\n",
    "        accuracy = 0\n",
    "        total = 0\n",
    "        newaccuracy = 0\n",
    "        newtotal = 0\n",
    "        newcorrect = 0\n",
    "        \n",
    "        # switch model to training mode, clear gradient accumulators\n",
    "        model.train()\n",
    "            \n",
    "        for i_batch, sample_batched in enumerate(train_data_loader):\n",
    "            \n",
    "            global_step += 1\n",
    "            \n",
    "            # clear gradient accumulators\n",
    "            optimizer.zero_grad()      \n",
    "           \n",
    "            review_indices = sample_batched['review_indices'].to(device)\n",
    "            rating = sample_batched['rating'].to(device)\n",
    " \n",
    "            value_rating = sample_batched['value_rating'].to(device)\n",
    "            atmosphere_rating = sample_batched['atmosphere_rating'].to(device)\n",
    "            service_rating = sample_batched['service_rating'].to(device)\n",
    "            food_rating = sample_batched['food_rating'].to(device)\n",
    "      \n",
    "            out1,out2,out3,out4,overall = model(review_indices) \n",
    "            \n",
    "            loss_overall = criterion(overall, rating)\n",
    "            \n",
    "            loss1 = criterion(out1, value_rating)\n",
    "            loss2 = criterion(out2, atmosphere_rating)\n",
    "            loss3 = criterion(out3, service_rating)\n",
    "            loss4 = criterion(out4, food_rating)\n",
    "            \n",
    "            loss = loss_overall + loss1 + loss2 + loss3 + loss4\n",
    "            \n",
    "            loss.backward()\n",
    "            optimizer.step()\n",
    "            \n",
    "            # calculate running loss \n",
    "            running_loss += loss.item()\n",
    "            \n",
    "            # get accuracy \n",
    "            total += rating.size(0)\n",
    "            correct += (torch.argmax(overall, -1) == rating).sum().item()                       \n",
    "            newcorrect = correct\n",
    "            newtotal = total\n",
    "            accuracy = 100*newcorrect/newtotal\n",
    "            \n",
    "            if global_step %  log_step == 0:\n",
    "                \n",
    "                # print loss and accyracy\n",
    "                print ('[%2d, %2d] loss: %.4f accuracy: %.4f' %(epoch + 1, i_batch + 1, running_loss,accuracy))\n",
    "                running_loss = 0.0\n",
    "                newtotal = 0\n",
    "                accuracy = 0\n",
    "                newtotal = 0      \n",
    "                # evaluate_acc_f1(validation_data_loader,mymodel)\n",
    "                                            \n",
    "        newaccuracy = 100 * correct / total\n",
    "        print ('epoch: %d, accuracy: %.4f' %(epoch,newaccuracy))\n",
    "        accuracy_point.append(newaccuracy)\n",
    "    # save model\n",
    "    torch.save(model, 'HotelBiLSTM.pkl')\n",
    "    \n",
    "    print('#########Finished Training#########')\n",
    "    \n",
    "    return accuracy_point\n",
    "\n"
   ]
  },
  {
   "cell_type": "code",
   "execution_count": 38,
   "id": "e7a62ad4",
   "metadata": {},
   "outputs": [
    {
     "data": {
      "text/plain": [
       "<torch.utils.data.dataloader.DataLoader at 0x2716d7229a0>"
      ]
     },
     "execution_count": 38,
     "metadata": {},
     "output_type": "execute_result"
    }
   ],
   "source": [
    "train_data_loader"
   ]
  },
  {
   "cell_type": "code",
   "execution_count": 39,
   "id": "343cda9e",
   "metadata": {},
   "outputs": [
    {
     "name": "stdout",
     "output_type": "stream",
     "text": [
      "#########Start Training#########\n",
      "[ 1, 10] loss: 70.6630 accuracy: 60.0000\n",
      "[ 1, 20] loss: 41.6740 accuracy: 61.0938\n",
      "[ 1, 30] loss: 32.9266 accuracy: 61.6667\n",
      "[ 1, 40] loss: 34.4943 accuracy: 62.0312\n",
      "[ 1, 50] loss: 31.7316 accuracy: 62.4688\n",
      "[ 1, 60] loss: 29.9190 accuracy: 63.0469\n",
      "[ 1, 70] loss: 28.5222 accuracy: 63.9062\n",
      "[ 1, 80] loss: 26.3000 accuracy: 65.0781\n",
      "[ 1, 90] loss: 29.1700 accuracy: 65.5208\n",
      "[ 1, 100] loss: 27.6069 accuracy: 66.2031\n",
      "[ 1, 110] loss: 26.7606 accuracy: 67.1733\n",
      "[ 1, 120] loss: 27.8466 accuracy: 67.6042\n",
      "[ 1, 130] loss: 26.6737 accuracy: 68.2091\n",
      "[ 1, 140] loss: 25.0546 accuracy: 68.8951\n",
      "[ 1, 150] loss: 25.4412 accuracy: 69.5521\n",
      "[ 1, 160] loss: 25.1692 accuracy: 70.1758\n",
      "[ 1, 170] loss: 25.0945 accuracy: 70.5239\n",
      "[ 1, 180] loss: 25.9080 accuracy: 70.8941\n",
      "[ 1, 190] loss: 24.7253 accuracy: 71.3322\n",
      "[ 1, 200] loss: 24.5825 accuracy: 71.6406\n",
      "[ 1, 210] loss: 23.2196 accuracy: 72.0387\n",
      "[ 1, 220] loss: 23.6816 accuracy: 72.3722\n",
      "[ 1, 230] loss: 24.3986 accuracy: 72.6970\n",
      "[ 1, 240] loss: 25.0811 accuracy: 73.0078\n",
      "[ 1, 250] loss: 24.4303 accuracy: 73.2938\n",
      "[ 1, 260] loss: 23.0531 accuracy: 73.7380\n",
      "[ 1, 270] loss: 24.6231 accuracy: 73.9757\n",
      "[ 1, 280] loss: 24.3414 accuracy: 74.2299\n",
      "[ 1, 290] loss: 24.2843 accuracy: 74.4289\n",
      "[ 1, 300] loss: 23.6296 accuracy: 74.7188\n",
      "epoch: 0, accuracy: 74.7994\n",
      "[ 2,  6] loss: 13.1805 accuracy: 84.6354\n",
      "[ 2, 16] loss: 23.3635 accuracy: 83.8867\n",
      "[ 2, 26] loss: 22.8808 accuracy: 83.5337\n",
      "[ 2, 36] loss: 24.2089 accuracy: 83.1597\n",
      "[ 2, 46] loss: 22.3430 accuracy: 82.9484\n",
      "[ 2, 56] loss: 22.3909 accuracy: 83.1194\n",
      "[ 2, 66] loss: 23.0108 accuracy: 82.8125\n",
      "[ 2, 76] loss: 23.0334 accuracy: 82.8331\n",
      "[ 2, 86] loss: 24.5476 accuracy: 82.5400\n",
      "[ 2, 96] loss: 23.2663 accuracy: 82.3730\n",
      "[ 2, 106] loss: 23.3765 accuracy: 82.5029\n",
      "[ 2, 116] loss: 22.5929 accuracy: 82.5700\n",
      "[ 2, 126] loss: 22.7998 accuracy: 82.5893\n",
      "[ 2, 136] loss: 22.7080 accuracy: 82.5138\n",
      "[ 2, 146] loss: 23.0332 accuracy: 82.4914\n",
      "[ 2, 156] loss: 22.3976 accuracy: 82.6222\n",
      "[ 2, 166] loss: 22.5376 accuracy: 82.5678\n",
      "[ 2, 176] loss: 22.8110 accuracy: 82.5284\n",
      "[ 2, 186] loss: 22.3140 accuracy: 82.6781\n",
      "[ 2, 196] loss: 23.8562 accuracy: 82.6212\n",
      "[ 2, 206] loss: 23.7251 accuracy: 82.5546\n",
      "[ 2, 216] loss: 23.3406 accuracy: 82.5955\n",
      "[ 2, 226] loss: 23.4061 accuracy: 82.4945\n",
      "[ 2, 236] loss: 22.5132 accuracy: 82.5675\n",
      "[ 2, 246] loss: 22.9413 accuracy: 82.5521\n",
      "[ 2, 256] loss: 23.2335 accuracy: 82.5317\n",
      "[ 2, 266] loss: 22.8865 accuracy: 82.4659\n",
      "[ 2, 276] loss: 22.8042 accuracy: 82.4162\n",
      "[ 2, 286] loss: 24.7966 accuracy: 82.3208\n",
      "[ 2, 296] loss: 23.4195 accuracy: 82.4060\n",
      "epoch: 1, accuracy: 82.3647\n",
      "#########Finished Training#########\n"
     ]
    }
   ],
   "source": [
    "accuracy_point = train(mymodel, train_data_loader, criterion, optimizer, log_step, num_epoch, device)\n"
   ]
  },
  {
   "cell_type": "code",
   "execution_count": 40,
   "id": "66230300",
   "metadata": {},
   "outputs": [],
   "source": [
    "def evaluate_acc_f1(test_data_loader,model):\n",
    "    n_test_correct, n_test_total = 0, 0\n",
    "    n_test_correct1,n_test_correct2,n_test_correct3,n_test_correct4 = 0,0,0,0\n",
    "\n",
    "    t_targets_all, t_outputs_all = None, None\n",
    "    \n",
    "    t_targets_all1, t_outputs_all1 = None, None\n",
    "    t_targets_all2, t_outputs_all2 = None, None\n",
    "    t_targets_all3, t_outputs_all3 = None, None\n",
    "    t_targets_all4, t_outputs_all4 = None, None\n",
    "    \n",
    "    # switch model to evaluation mode\n",
    "    model.eval()\n",
    "    \n",
    "    with torch.no_grad():\n",
    "        for t_batch, t_sample_batched in enumerate(test_data_loader):\n",
    "            \n",
    "            t_sentence = t_sample_batched['review_indices'].to(device)\n",
    "            \n",
    "            t_targets = t_sample_batched['rating'].to(device)\n",
    "       \n",
    "            t_targets1 = t_sample_batched['value_rating'].to(device)\n",
    "            t_targets2 = t_sample_batched['atmosphere_rating'].to(device)\n",
    "            t_targets3 = t_sample_batched['service_rating'].to(device)\n",
    "            t_targets4 = t_sample_batched['food_rating'].to(device)       \n",
    "            \n",
    "            foodrating,valuerating,servicerating,atmosphererating,t_overall = model(t_sentence) \n",
    "        \n",
    "            n_test_correct += (torch.argmax(t_overall, -1) == t_targets).sum().item()\n",
    "            \n",
    "            n_test_correct1 += (torch.argmax(foodrating, -1) == t_targets1).sum().item()\n",
    "            n_test_correct2 += (torch.argmax(valuerating, -1) == t_targets2).sum().item()\n",
    "            n_test_correct3 += (torch.argmax(servicerating, -1) == t_targets3).sum().item()\n",
    "            n_test_correct4 += (torch.argmax(atmosphererating, -1) == t_targets4).sum().item()\n",
    "            \n",
    "            n_test_total += len(t_overall)\n",
    "\n",
    "            if t_targets_all is None:\n",
    "                t_targets_all = t_targets\n",
    "                t_outputs_all = t_overall   \n",
    "            else:\n",
    "                t_targets_all = torch.cat((t_targets_all, t_targets), dim=0)\n",
    "                t_outputs_all = torch.cat((t_outputs_all, t_overall), dim=0)\n",
    "                \n",
    "                \n",
    "            if t_targets_all1 is None:      \n",
    "                t_targets_all1 = t_targets1\n",
    "                t_outputs_all1 = foodrating\n",
    "            else:\n",
    "                t_targets_all1 = torch.cat((t_targets_all1, t_targets1), dim=0)\n",
    "                t_outputs_all1 = torch.cat((t_outputs_all1, foodrating), dim=0)    \n",
    "                \n",
    "            if t_targets_all2 is None:      \n",
    "                t_targets_all2 = t_targets2\n",
    "                t_outputs_all2 = valuerating\n",
    "            else:\n",
    "                t_targets_all2 = torch.cat((t_targets_all2, t_targets2), dim=0)\n",
    "                t_outputs_all2 = torch.cat((t_outputs_all2, valuerating), dim=0) \n",
    "                \n",
    "            if t_targets_all3 is None:      \n",
    "                t_targets_all3 = t_targets3\n",
    "                t_outputs_all3 = servicerating\n",
    "            else:\n",
    "                t_targets_all3 = torch.cat((t_targets_all3, t_targets3), dim=0)\n",
    "                t_outputs_all3 = torch.cat((t_outputs_all3, servicerating), dim=0) \n",
    "                \n",
    "            if t_targets_all4 is None:      \n",
    "                t_targets_all4 = t_targets4\n",
    "                t_outputs_all4 = atmosphererating\n",
    "            else:\n",
    "                t_targets_all4 = torch.cat((t_targets_all4, t_targets4), dim=0)\n",
    "                t_outputs_all4 = torch.cat((t_outputs_all4, atmosphererating), dim=0) \n",
    "                \n",
    "        test_acc = n_test_correct / n_test_total\n",
    "        f1 = metrics.f1_score(t_targets_all.cpu(), torch.argmax(t_outputs_all, -1).cpu(), labels=[0, 1], average='macro')\n",
    "        print ('test_acc: %.4f, f1: %.4f' %(test_acc,f1))\n",
    "        \n",
    "        test_acc1 = n_test_correct1 / n_test_total\n",
    "        f11 = metrics.f1_score(t_targets_all1.cpu(), torch.argmax(t_outputs_all1, -1).cpu(), labels=[0, 1], average='macro')\n",
    "        print ('test_acc1: %.4f, f11: %.4f' %(test_acc1,f11))\n",
    "        \n",
    "        test_acc2 = n_test_correct2 / n_test_total\n",
    "        f12 = metrics.f1_score(t_targets_all2.cpu(), torch.argmax(t_outputs_all2, -1).cpu(), labels=[0, 1], average='macro')\n",
    "        print ('test_acc2: %.4f, f12: %.4f' %(test_acc2,f12))\n",
    "        \n",
    "        test_acc3 = n_test_correct3 / n_test_total\n",
    "        f13 = metrics.f1_score(t_targets_all3.cpu(), torch.argmax(t_outputs_all3, -1).cpu(), labels=[0, 1], average='macro')\n",
    "        print ('test_acc3: %.4f, f13: %.4f' %(test_acc3,f13))\n",
    "        \n",
    "        test_acc4 = n_test_correct4 / n_test_total\n",
    "        f14 = metrics.f1_score(t_targets_all4.cpu(), torch.argmax(t_outputs_all4, -1).cpu(), labels=[0, 1], average='macro')\n",
    "        print ('test_acc4: %.4f, f14: %.4f' %(test_acc4,f14))"
   ]
  },
  {
   "cell_type": "code",
   "execution_count": 41,
   "id": "e2d26e08",
   "metadata": {},
   "outputs": [],
   "source": [
    "newmodel = torch.load('HotelBiLSTM.pkl')"
   ]
  },
  {
   "cell_type": "code",
   "execution_count": 42,
   "id": "4a824405",
   "metadata": {},
   "outputs": [
    {
     "name": "stdout",
     "output_type": "stream",
     "text": [
      "test_acc: 0.6620, f1: 0.5322\n",
      "test_acc1: 0.6377, f11: 0.4935\n",
      "test_acc2: 0.8522, f12: 0.4601\n",
      "test_acc3: 0.6254, f13: 0.5219\n",
      "test_acc4: 0.6848, f14: 0.5290\n"
     ]
    }
   ],
   "source": [
    "# CrossEntropy\n",
    "evaluate_acc_f1(test_data_loader,newmodel) "
   ]
  },
  {
   "cell_type": "code",
   "execution_count": 43,
   "id": "00689a4b",
   "metadata": {},
   "outputs": [],
   "source": [
    "# plot the accuracy of training\n",
    "def plot_acc(train_accuracy,epoch):\n",
    "    plt.figure(figsize=(15, 5))\n",
    "    plt.subplot(121)\n",
    "    plt.plot(range(epoch), train_accuracy, label='Train')\n",
    "    plt.title('Accuracy over ' + str(epoch) + ' Epochs', size=15)\n",
    "    plt.legend()\n",
    "    plt.grid(True)\n",
    "    plt.show()"
   ]
  },
  {
   "cell_type": "code",
   "execution_count": 44,
   "id": "01421dee",
   "metadata": {},
   "outputs": [
    {
     "data": {
      "image/png": "[encoded data removed]",
      "text/plain": [
       "<Figure size 1500x500 with 1 Axes>"
      ]
     },
     "metadata": {},
     "output_type": "display_data"
    }
   ],
   "source": [
    "plot_acc(accuracy_point,num_epoch) "
   ]
  },
  {
   "cell_type": "code",
   "execution_count": null,
   "id": "fefdc730",
   "metadata": {},
   "outputs": [],
   "source": []
  },
  {
   "cell_type": "code",
   "execution_count": null,
   "id": "d153fa93",
   "metadata": {},
   "outputs": [],
   "source": []
  }
 ],
 "metadata": {
  "kernelspec": {
   "display_name": "Python 3 (ipykernel)",
   "language": "python",
   "name": "python3"
  },
  "language_info": {
   "codemirror_mode": {
    "name": "ipython",
    "version": 3
   },
   "file_extension": ".py",
   "mimetype": "text/x-python",
   "name": "python",
   "nbconvert_exporter": "python",
   "pygments_lexer": "ipython3",
   "version": "3.9.12"
  }
 },
 "nbformat": 4,
 "nbformat_minor": 5
}
